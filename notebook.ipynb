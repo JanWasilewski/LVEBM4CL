{
 "cells": [
  {
   "cell_type": "code",
   "execution_count": 3,
   "metadata": {},
   "outputs": [],
   "source": [
    "import torch\n",
    "import models_jw\n",
    "from utils import *\n",
    "from tqdm import tqdm\n",
    "import numpy as np\n",
    "\n",
    "device = \"cuda\""
   ]
  },
  {
   "cell_type": "code",
   "execution_count": 4,
   "metadata": {},
   "outputs": [
    {
     "name": "stdout",
     "output_type": "stream",
     "text": [
      "Files already downloaded and verified\n",
      "Files already downloaded and verified\n"
     ]
    }
   ],
   "source": [
    "from configs import paramsuper, getters\n",
    "import torch\n",
    "args = paramsuper.ICIFARHashResNet18()\n",
    "\n",
    "torch.manual_seed(args.seed)\n",
    "np.random.seed(0)\n",
    "\n",
    "use_cuda = not args.no_cuda and torch.cuda.is_available()\n",
    "device = torch.device(\"cuda\" if use_cuda else \"cpu\")\n",
    "training_period = 20000\n",
    "\n",
    "kwargs = {'num_workers': 1, 'pin_memory': True} if use_cuda else {}\n",
    "train_loader = getters.get_dataset(args.dataset, training_period, args.batch_size, True, kwargs)\n"
   ]
  },
  {
   "cell_type": "code",
   "execution_count": 5,
   "metadata": {},
   "outputs": [
    {
     "name": "stderr",
     "output_type": "stream",
     "text": [
      "100%|██████████| 100000/100000 [1:23:27<00:00, 19.97it/s]\n"
     ]
    }
   ],
   "source": [
    "net = models_jw.HashResNet18(10).to(device)\n",
    "optimizer = torch.optim.RMSprop(net.parameters(), lr=0.01)\n",
    "TASKS_NUM = 5\n",
    "for time in tqdm(range(TASKS_NUM*training_period)):\n",
    "    X, y = train_loader.get_data()\n",
    "    X, y = X.to(device), y.to(device)        \n",
    "    z = torch.zeros(10)\n",
    "    z[time // args.period] = 1\n",
    "    y_hat, _, _ = net(X, z)\n",
    "    optimizer.zero_grad()\n",
    "    loss = hinge_loss(y_hat, y, 1)\n",
    "    loss.backward()\n",
    "    optimizer.step()"
   ]
  },
  {
   "cell_type": "code",
   "execution_count": 6,
   "metadata": {},
   "outputs": [],
   "source": [
    "torch.save(net.state_dict(), \"5_tasks_hunge10.pth\")"
   ]
  },
  {
   "cell_type": "code",
   "execution_count": 3,
   "metadata": {},
   "outputs": [
    {
     "data": {
      "text/plain": [
       "<All keys matched successfully>"
      ]
     },
     "execution_count": 3,
     "metadata": {},
     "output_type": "execute_result"
    }
   ],
   "source": [
    "torch.manual_seed(1)\n",
    "np.random.seed(0)\n",
    "\n",
    "net2 = models_jw.HashResNet18(10).to(device)\n",
    "net2.load_state_dict(torch.load(\"5_tasks_hunge10.pth\"))"
   ]
  },
  {
   "cell_type": "code",
   "execution_count": 4,
   "metadata": {},
   "outputs": [
    {
     "name": "stdout",
     "output_type": "stream",
     "text": [
      "Files already downloaded and verified\n",
      "Files already downloaded and verified\n"
     ]
    },
    {
     "name": "stderr",
     "output_type": "stream",
     "text": [
      "100%|██████████| 10/10 [00:01<00:00,  9.09it/s]\n"
     ]
    },
    {
     "data": {
      "text/plain": [
       "{0: 648, 1: 517, 2: 693, 3: 615, 4: 700, 5: 98, 6: 118, 7: 80, 8: 115, 9: 104}"
      ]
     },
     "execution_count": 4,
     "metadata": {},
     "output_type": "execute_result"
    }
   ],
   "source": [
    "# EVALUATE WITH task_num\n",
    "\n",
    "test_loader = getters.get_dataset(args.dataset, 1, args.test_batch_size, False, kwargs)\n",
    "tasks_num = 10\n",
    "accs =  {i: 0 for i in range(tasks_num)}\n",
    "for time in tqdm(range(tasks_num)):\n",
    "    X, y = test_loader.get_data()\n",
    "    X, y = X.to(device), y.to(device)        \n",
    "    z = torch.zeros(10)\n",
    "    z[time] = 1\n",
    "    y_hat, _, _ = net2(X, z)\n",
    "    accs[time] = accs[time] + (y_hat.min(1).indices==y).sum().item()\n",
    "accs"
   ]
  },
  {
   "cell_type": "code",
   "execution_count": 5,
   "metadata": {},
   "outputs": [
    {
     "name": "stdout",
     "output_type": "stream",
     "text": [
      "Files already downloaded and verified\n",
      "Files already downloaded and verified\n"
     ]
    },
    {
     "name": "stderr",
     "output_type": "stream",
     "text": [
      "  0%|          | 0/10 [00:00<?, ?it/s]\n"
     ]
    },
    {
     "ename": "RuntimeError",
     "evalue": "mat1 and mat2 shapes cannot be multiplied (576x10 and 5x1)",
     "output_type": "error",
     "traceback": [
      "\u001b[0;31m---------------------------------------------------------------------------\u001b[0m",
      "\u001b[0;31mRuntimeError\u001b[0m                              Traceback (most recent call last)",
      "Cell \u001b[0;32mIn[5], line 11\u001b[0m\n\u001b[1;32m      9\u001b[0m X, y \u001b[38;5;241m=\u001b[39m test_loader\u001b[38;5;241m.\u001b[39mget_data()\n\u001b[1;32m     10\u001b[0m X, y \u001b[38;5;241m=\u001b[39m X\u001b[38;5;241m.\u001b[39mto(device), y\u001b[38;5;241m.\u001b[39mto(device)        \n\u001b[0;32m---> 11\u001b[0m y_hat, z, losses \u001b[38;5;241m=\u001b[39m \u001b[43mnet2\u001b[49m\u001b[43m(\u001b[49m\u001b[43mX\u001b[49m\u001b[43m)\u001b[49m\n\u001b[1;32m     12\u001b[0m zzz[time] \u001b[38;5;241m=\u001b[39m z \n\u001b[1;32m     13\u001b[0m \u001b[38;5;66;03m#accs[time] = accs[time] + (y_hat.min(1).indices==y).sum().item()\u001b[39;00m\n",
      "File \u001b[0;32m~/superposition/.venv/lib/python3.10/site-packages/torch/nn/modules/module.py:1532\u001b[0m, in \u001b[0;36mModule._wrapped_call_impl\u001b[0;34m(self, *args, **kwargs)\u001b[0m\n\u001b[1;32m   1530\u001b[0m     \u001b[38;5;28;01mreturn\u001b[39;00m \u001b[38;5;28mself\u001b[39m\u001b[38;5;241m.\u001b[39m_compiled_call_impl(\u001b[38;5;241m*\u001b[39margs, \u001b[38;5;241m*\u001b[39m\u001b[38;5;241m*\u001b[39mkwargs)  \u001b[38;5;66;03m# type: ignore[misc]\u001b[39;00m\n\u001b[1;32m   1531\u001b[0m \u001b[38;5;28;01melse\u001b[39;00m:\n\u001b[0;32m-> 1532\u001b[0m     \u001b[38;5;28;01mreturn\u001b[39;00m \u001b[38;5;28;43mself\u001b[39;49m\u001b[38;5;241;43m.\u001b[39;49m\u001b[43m_call_impl\u001b[49m\u001b[43m(\u001b[49m\u001b[38;5;241;43m*\u001b[39;49m\u001b[43margs\u001b[49m\u001b[43m,\u001b[49m\u001b[43m \u001b[49m\u001b[38;5;241;43m*\u001b[39;49m\u001b[38;5;241;43m*\u001b[39;49m\u001b[43mkwargs\u001b[49m\u001b[43m)\u001b[49m\n",
      "File \u001b[0;32m~/superposition/.venv/lib/python3.10/site-packages/torch/nn/modules/module.py:1541\u001b[0m, in \u001b[0;36mModule._call_impl\u001b[0;34m(self, *args, **kwargs)\u001b[0m\n\u001b[1;32m   1536\u001b[0m \u001b[38;5;66;03m# If we don't have any hooks, we want to skip the rest of the logic in\u001b[39;00m\n\u001b[1;32m   1537\u001b[0m \u001b[38;5;66;03m# this function, and just call forward.\u001b[39;00m\n\u001b[1;32m   1538\u001b[0m \u001b[38;5;28;01mif\u001b[39;00m \u001b[38;5;129;01mnot\u001b[39;00m (\u001b[38;5;28mself\u001b[39m\u001b[38;5;241m.\u001b[39m_backward_hooks \u001b[38;5;129;01mor\u001b[39;00m \u001b[38;5;28mself\u001b[39m\u001b[38;5;241m.\u001b[39m_backward_pre_hooks \u001b[38;5;129;01mor\u001b[39;00m \u001b[38;5;28mself\u001b[39m\u001b[38;5;241m.\u001b[39m_forward_hooks \u001b[38;5;129;01mor\u001b[39;00m \u001b[38;5;28mself\u001b[39m\u001b[38;5;241m.\u001b[39m_forward_pre_hooks\n\u001b[1;32m   1539\u001b[0m         \u001b[38;5;129;01mor\u001b[39;00m _global_backward_pre_hooks \u001b[38;5;129;01mor\u001b[39;00m _global_backward_hooks\n\u001b[1;32m   1540\u001b[0m         \u001b[38;5;129;01mor\u001b[39;00m _global_forward_hooks \u001b[38;5;129;01mor\u001b[39;00m _global_forward_pre_hooks):\n\u001b[0;32m-> 1541\u001b[0m     \u001b[38;5;28;01mreturn\u001b[39;00m \u001b[43mforward_call\u001b[49m\u001b[43m(\u001b[49m\u001b[38;5;241;43m*\u001b[39;49m\u001b[43margs\u001b[49m\u001b[43m,\u001b[49m\u001b[43m \u001b[49m\u001b[38;5;241;43m*\u001b[39;49m\u001b[38;5;241;43m*\u001b[39;49m\u001b[43mkwargs\u001b[49m\u001b[43m)\u001b[49m\n\u001b[1;32m   1543\u001b[0m \u001b[38;5;28;01mtry\u001b[39;00m:\n\u001b[1;32m   1544\u001b[0m     result \u001b[38;5;241m=\u001b[39m \u001b[38;5;28;01mNone\u001b[39;00m\n",
      "File \u001b[0;32m~/superposition/models_jw.py:69\u001b[0m, in \u001b[0;36mHashResNet.forward\u001b[0;34m(self, x, z)\u001b[0m\n\u001b[1;32m     67\u001b[0m \u001b[38;5;28;01mdef\u001b[39;00m \u001b[38;5;21mforward\u001b[39m(\u001b[38;5;28mself\u001b[39m, x, z\u001b[38;5;241m=\u001b[39m\u001b[38;5;28;01mNone\u001b[39;00m):\n\u001b[1;32m     68\u001b[0m     \u001b[38;5;28;01mif\u001b[39;00m z \u001b[38;5;241m==\u001b[39m \u001b[38;5;28;01mNone\u001b[39;00m:\n\u001b[0;32m---> 69\u001b[0m         \u001b[38;5;28;01mreturn\u001b[39;00m \u001b[38;5;28;43mself\u001b[39;49m\u001b[38;5;241;43m.\u001b[39;49m\u001b[43moptimize_z\u001b[49m\u001b[43m(\u001b[49m\u001b[43mx\u001b[49m\u001b[43m)\u001b[49m\n\u001b[1;32m     70\u001b[0m     \u001b[38;5;28;01melse\u001b[39;00m:\n\u001b[1;32m     71\u001b[0m         \u001b[38;5;28;01mreturn\u001b[39;00m \u001b[38;5;28mself\u001b[39m\u001b[38;5;241m.\u001b[39m_forward(x, z)\n",
      "File \u001b[0;32m~/superposition/models_jw.py:81\u001b[0m, in \u001b[0;36mHashResNet.optimize_z\u001b[0;34m(self, X)\u001b[0m\n\u001b[1;32m     79\u001b[0m \u001b[38;5;28;01mfor\u001b[39;00m y \u001b[38;5;129;01min\u001b[39;00m torch\u001b[38;5;241m.\u001b[39marange(\u001b[38;5;28mself\u001b[39m\u001b[38;5;241m.\u001b[39mC):\n\u001b[1;32m     80\u001b[0m     debug \u001b[38;5;241m=\u001b[39m \u001b[38;5;241m1\u001b[39m\n\u001b[0;32m---> 81\u001b[0m     z, e_min, losses \u001b[38;5;241m=\u001b[39m \u001b[38;5;28;43mself\u001b[39;49m\u001b[38;5;241;43m.\u001b[39;49m\u001b[43m_minimize_with_respect_to_z\u001b[49m\u001b[43m(\u001b[49m\u001b[43mx\u001b[49m\u001b[43m,\u001b[49m\u001b[43m \u001b[49m\u001b[43my\u001b[49m\u001b[43m)\u001b[49m\n\u001b[1;32m     82\u001b[0m     debug \u001b[38;5;241m=\u001b[39m \u001b[38;5;241m1\u001b[39m\n\u001b[1;32m     83\u001b[0m     \u001b[38;5;28;01mif\u001b[39;00m e_min \u001b[38;5;241m<\u001b[39m min_value:\n",
      "File \u001b[0;32m~/superposition/models_jw.py:61\u001b[0m, in \u001b[0;36mHashResNet._minimize_with_respect_to_z\u001b[0;34m(self, x, y, lr, num_steps)\u001b[0m\n\u001b[1;32m     59\u001b[0m \u001b[38;5;28;01mfor\u001b[39;00m _ \u001b[38;5;129;01min\u001b[39;00m \u001b[38;5;28mrange\u001b[39m(num_steps):\n\u001b[1;32m     60\u001b[0m     optimizer\u001b[38;5;241m.\u001b[39mzero_grad()\n\u001b[0;32m---> 61\u001b[0m     loss \u001b[38;5;241m=\u001b[39m \u001b[38;5;28;43mself\u001b[39;49m\u001b[38;5;241;43m.\u001b[39;49m\u001b[43menergy\u001b[49m\u001b[43m(\u001b[49m\u001b[43mz\u001b[49m\u001b[43m,\u001b[49m\u001b[43m \u001b[49m\u001b[43my\u001b[49m\u001b[38;5;241;43m.\u001b[39;49m\u001b[43mto\u001b[49m\u001b[43m(\u001b[49m\u001b[38;5;124;43m\"\u001b[39;49m\u001b[38;5;124;43mcuda\u001b[39;49m\u001b[38;5;124;43m\"\u001b[39;49m\u001b[43m)\u001b[49m\u001b[43m,\u001b[49m\u001b[43m \u001b[49m\u001b[43mx\u001b[49m\u001b[38;5;241;43m.\u001b[39;49m\u001b[43munsqueeze\u001b[49m\u001b[43m(\u001b[49m\u001b[38;5;241;43m0\u001b[39;49m\u001b[43m)\u001b[49m\u001b[38;5;241;43m.\u001b[39;49m\u001b[43mto\u001b[49m\u001b[43m(\u001b[49m\u001b[38;5;124;43m\"\u001b[39;49m\u001b[38;5;124;43mcuda\u001b[39;49m\u001b[38;5;124;43m\"\u001b[39;49m\u001b[43m)\u001b[49m\u001b[43m)\u001b[49m\n\u001b[1;32m     62\u001b[0m     loss\u001b[38;5;241m.\u001b[39mbackward()\n\u001b[1;32m     63\u001b[0m     optimizer\u001b[38;5;241m.\u001b[39mstep()\n",
      "File \u001b[0;32m~/superposition/models_jw.py:51\u001b[0m, in \u001b[0;36mHashResNet.energy\u001b[0;34m(self, z, y, x)\u001b[0m\n\u001b[1;32m     50\u001b[0m \u001b[38;5;28;01mdef\u001b[39;00m \u001b[38;5;21menergy\u001b[39m(\u001b[38;5;28mself\u001b[39m, z, y, x):\n\u001b[0;32m---> 51\u001b[0m     \u001b[38;5;28;01mreturn\u001b[39;00m \u001b[38;5;241m-\u001b[39m\u001b[38;5;28;43mself\u001b[39;49m\u001b[38;5;241;43m.\u001b[39;49m\u001b[43m_forward\u001b[49m\u001b[43m(\u001b[49m\u001b[43mx\u001b[49m\u001b[43m,\u001b[49m\u001b[43m \u001b[49m\u001b[43mnn\u001b[49m\u001b[38;5;241;43m.\u001b[39;49m\u001b[43mSoftmax\u001b[49m\u001b[43m(\u001b[49m\u001b[43mdim\u001b[49m\u001b[38;5;241;43m=\u001b[39;49m\u001b[38;5;241;43m0\u001b[39;49m\u001b[43m)\u001b[49m\u001b[43m(\u001b[49m\u001b[43mz\u001b[49m\u001b[43m)\u001b[49m\u001b[43m)\u001b[49m[\u001b[38;5;241m0\u001b[39m][\u001b[38;5;241m0\u001b[39m][y]\n",
      "File \u001b[0;32m~/superposition/models_jw.py:95\u001b[0m, in \u001b[0;36mHashResNet._forward\u001b[0;34m(self, x, z)\u001b[0m\n\u001b[1;32m     93\u001b[0m \u001b[38;5;28;01mdef\u001b[39;00m \u001b[38;5;21m_forward\u001b[39m(\u001b[38;5;28mself\u001b[39m, x, z):\n\u001b[1;32m     94\u001b[0m     out \u001b[38;5;241m=\u001b[39m F\u001b[38;5;241m.\u001b[39mrelu(\u001b[38;5;28mself\u001b[39m\u001b[38;5;241m.\u001b[39mbn1(\u001b[38;5;28mself\u001b[39m\u001b[38;5;241m.\u001b[39mconv1(x)))\n\u001b[0;32m---> 95\u001b[0m     out \u001b[38;5;241m=\u001b[39m \u001b[38;5;28;43mself\u001b[39;49m\u001b[38;5;241;43m.\u001b[39;49m\u001b[43mlayer1\u001b[49m\u001b[43m[\u001b[49m\u001b[38;5;241;43m0\u001b[39;49m\u001b[43m]\u001b[49m\u001b[43m(\u001b[49m\u001b[43mout\u001b[49m\u001b[43m,\u001b[49m\u001b[43m \u001b[49m\u001b[43mz\u001b[49m\u001b[43m)\u001b[49m\n\u001b[1;32m     96\u001b[0m     out \u001b[38;5;241m=\u001b[39m \u001b[38;5;28mself\u001b[39m\u001b[38;5;241m.\u001b[39mlayer1[\u001b[38;5;241m1\u001b[39m](out, z)\n\u001b[1;32m     97\u001b[0m     out \u001b[38;5;241m=\u001b[39m \u001b[38;5;28mself\u001b[39m\u001b[38;5;241m.\u001b[39mlayer2[\u001b[38;5;241m0\u001b[39m](out, z)\n",
      "File \u001b[0;32m~/superposition/.venv/lib/python3.10/site-packages/torch/nn/modules/module.py:1532\u001b[0m, in \u001b[0;36mModule._wrapped_call_impl\u001b[0;34m(self, *args, **kwargs)\u001b[0m\n\u001b[1;32m   1530\u001b[0m     \u001b[38;5;28;01mreturn\u001b[39;00m \u001b[38;5;28mself\u001b[39m\u001b[38;5;241m.\u001b[39m_compiled_call_impl(\u001b[38;5;241m*\u001b[39margs, \u001b[38;5;241m*\u001b[39m\u001b[38;5;241m*\u001b[39mkwargs)  \u001b[38;5;66;03m# type: ignore[misc]\u001b[39;00m\n\u001b[1;32m   1531\u001b[0m \u001b[38;5;28;01melse\u001b[39;00m:\n\u001b[0;32m-> 1532\u001b[0m     \u001b[38;5;28;01mreturn\u001b[39;00m \u001b[38;5;28;43mself\u001b[39;49m\u001b[38;5;241;43m.\u001b[39;49m\u001b[43m_call_impl\u001b[49m\u001b[43m(\u001b[49m\u001b[38;5;241;43m*\u001b[39;49m\u001b[43margs\u001b[49m\u001b[43m,\u001b[49m\u001b[43m \u001b[49m\u001b[38;5;241;43m*\u001b[39;49m\u001b[38;5;241;43m*\u001b[39;49m\u001b[43mkwargs\u001b[49m\u001b[43m)\u001b[49m\n",
      "File \u001b[0;32m~/superposition/.venv/lib/python3.10/site-packages/torch/nn/modules/module.py:1541\u001b[0m, in \u001b[0;36mModule._call_impl\u001b[0;34m(self, *args, **kwargs)\u001b[0m\n\u001b[1;32m   1536\u001b[0m \u001b[38;5;66;03m# If we don't have any hooks, we want to skip the rest of the logic in\u001b[39;00m\n\u001b[1;32m   1537\u001b[0m \u001b[38;5;66;03m# this function, and just call forward.\u001b[39;00m\n\u001b[1;32m   1538\u001b[0m \u001b[38;5;28;01mif\u001b[39;00m \u001b[38;5;129;01mnot\u001b[39;00m (\u001b[38;5;28mself\u001b[39m\u001b[38;5;241m.\u001b[39m_backward_hooks \u001b[38;5;129;01mor\u001b[39;00m \u001b[38;5;28mself\u001b[39m\u001b[38;5;241m.\u001b[39m_backward_pre_hooks \u001b[38;5;129;01mor\u001b[39;00m \u001b[38;5;28mself\u001b[39m\u001b[38;5;241m.\u001b[39m_forward_hooks \u001b[38;5;129;01mor\u001b[39;00m \u001b[38;5;28mself\u001b[39m\u001b[38;5;241m.\u001b[39m_forward_pre_hooks\n\u001b[1;32m   1539\u001b[0m         \u001b[38;5;129;01mor\u001b[39;00m _global_backward_pre_hooks \u001b[38;5;129;01mor\u001b[39;00m _global_backward_hooks\n\u001b[1;32m   1540\u001b[0m         \u001b[38;5;129;01mor\u001b[39;00m _global_forward_hooks \u001b[38;5;129;01mor\u001b[39;00m _global_forward_pre_hooks):\n\u001b[0;32m-> 1541\u001b[0m     \u001b[38;5;28;01mreturn\u001b[39;00m \u001b[43mforward_call\u001b[49m\u001b[43m(\u001b[49m\u001b[38;5;241;43m*\u001b[39;49m\u001b[43margs\u001b[49m\u001b[43m,\u001b[49m\u001b[43m \u001b[49m\u001b[38;5;241;43m*\u001b[39;49m\u001b[38;5;241;43m*\u001b[39;49m\u001b[43mkwargs\u001b[49m\u001b[43m)\u001b[49m\n\u001b[1;32m   1543\u001b[0m \u001b[38;5;28;01mtry\u001b[39;00m:\n\u001b[1;32m   1544\u001b[0m     result \u001b[38;5;241m=\u001b[39m \u001b[38;5;28;01mNone\u001b[39;00m\n",
      "File \u001b[0;32m~/superposition/models_jw.py:129\u001b[0m, in \u001b[0;36mHashBasicBlock.forward\u001b[0;34m(self, x, z)\u001b[0m\n\u001b[1;32m    128\u001b[0m \u001b[38;5;28;01mdef\u001b[39;00m \u001b[38;5;21mforward\u001b[39m(\u001b[38;5;28mself\u001b[39m, x, z):\n\u001b[0;32m--> 129\u001b[0m     out \u001b[38;5;241m=\u001b[39m F\u001b[38;5;241m.\u001b[39mrelu(\u001b[38;5;28mself\u001b[39m\u001b[38;5;241m.\u001b[39mbn1(\u001b[38;5;28;43mself\u001b[39;49m\u001b[38;5;241;43m.\u001b[39;49m\u001b[43mconv1\u001b[49m\u001b[43m(\u001b[49m\u001b[43mx\u001b[49m\u001b[43m,\u001b[49m\u001b[43m \u001b[49m\u001b[43mz\u001b[49m\u001b[43m)\u001b[49m))\n\u001b[1;32m    130\u001b[0m     out \u001b[38;5;241m=\u001b[39m \u001b[38;5;28mself\u001b[39m\u001b[38;5;241m.\u001b[39mbn2(\u001b[38;5;28mself\u001b[39m\u001b[38;5;241m.\u001b[39mconv2(out, z))\n\u001b[1;32m    131\u001b[0m     \u001b[38;5;28;01mif\u001b[39;00m \u001b[38;5;28mlen\u001b[39m(\u001b[38;5;28mself\u001b[39m\u001b[38;5;241m.\u001b[39mshortcut) \u001b[38;5;241m>\u001b[39m \u001b[38;5;241m0\u001b[39m:\n",
      "File \u001b[0;32m~/superposition/.venv/lib/python3.10/site-packages/torch/nn/modules/module.py:1532\u001b[0m, in \u001b[0;36mModule._wrapped_call_impl\u001b[0;34m(self, *args, **kwargs)\u001b[0m\n\u001b[1;32m   1530\u001b[0m     \u001b[38;5;28;01mreturn\u001b[39;00m \u001b[38;5;28mself\u001b[39m\u001b[38;5;241m.\u001b[39m_compiled_call_impl(\u001b[38;5;241m*\u001b[39margs, \u001b[38;5;241m*\u001b[39m\u001b[38;5;241m*\u001b[39mkwargs)  \u001b[38;5;66;03m# type: ignore[misc]\u001b[39;00m\n\u001b[1;32m   1531\u001b[0m \u001b[38;5;28;01melse\u001b[39;00m:\n\u001b[0;32m-> 1532\u001b[0m     \u001b[38;5;28;01mreturn\u001b[39;00m \u001b[38;5;28;43mself\u001b[39;49m\u001b[38;5;241;43m.\u001b[39;49m\u001b[43m_call_impl\u001b[49m\u001b[43m(\u001b[49m\u001b[38;5;241;43m*\u001b[39;49m\u001b[43margs\u001b[49m\u001b[43m,\u001b[49m\u001b[43m \u001b[49m\u001b[38;5;241;43m*\u001b[39;49m\u001b[38;5;241;43m*\u001b[39;49m\u001b[43mkwargs\u001b[49m\u001b[43m)\u001b[49m\n",
      "File \u001b[0;32m~/superposition/.venv/lib/python3.10/site-packages/torch/nn/modules/module.py:1541\u001b[0m, in \u001b[0;36mModule._call_impl\u001b[0;34m(self, *args, **kwargs)\u001b[0m\n\u001b[1;32m   1536\u001b[0m \u001b[38;5;66;03m# If we don't have any hooks, we want to skip the rest of the logic in\u001b[39;00m\n\u001b[1;32m   1537\u001b[0m \u001b[38;5;66;03m# this function, and just call forward.\u001b[39;00m\n\u001b[1;32m   1538\u001b[0m \u001b[38;5;28;01mif\u001b[39;00m \u001b[38;5;129;01mnot\u001b[39;00m (\u001b[38;5;28mself\u001b[39m\u001b[38;5;241m.\u001b[39m_backward_hooks \u001b[38;5;129;01mor\u001b[39;00m \u001b[38;5;28mself\u001b[39m\u001b[38;5;241m.\u001b[39m_backward_pre_hooks \u001b[38;5;129;01mor\u001b[39;00m \u001b[38;5;28mself\u001b[39m\u001b[38;5;241m.\u001b[39m_forward_hooks \u001b[38;5;129;01mor\u001b[39;00m \u001b[38;5;28mself\u001b[39m\u001b[38;5;241m.\u001b[39m_forward_pre_hooks\n\u001b[1;32m   1539\u001b[0m         \u001b[38;5;129;01mor\u001b[39;00m _global_backward_pre_hooks \u001b[38;5;129;01mor\u001b[39;00m _global_backward_hooks\n\u001b[1;32m   1540\u001b[0m         \u001b[38;5;129;01mor\u001b[39;00m _global_forward_hooks \u001b[38;5;129;01mor\u001b[39;00m _global_forward_pre_hooks):\n\u001b[0;32m-> 1541\u001b[0m     \u001b[38;5;28;01mreturn\u001b[39;00m \u001b[43mforward_call\u001b[49m\u001b[43m(\u001b[49m\u001b[38;5;241;43m*\u001b[39;49m\u001b[43margs\u001b[49m\u001b[43m,\u001b[49m\u001b[43m \u001b[49m\u001b[38;5;241;43m*\u001b[39;49m\u001b[38;5;241;43m*\u001b[39;49m\u001b[43mkwargs\u001b[49m\u001b[43m)\u001b[49m\n\u001b[1;32m   1543\u001b[0m \u001b[38;5;28;01mtry\u001b[39;00m:\n\u001b[1;32m   1544\u001b[0m     result \u001b[38;5;241m=\u001b[39m \u001b[38;5;28;01mNone\u001b[39;00m\n",
      "File \u001b[0;32m~/superposition/models_jw.py:187\u001b[0m, in \u001b[0;36mHashConv2d.forward\u001b[0;34m(self, x, z)\u001b[0m\n\u001b[1;32m    185\u001b[0m \u001b[38;5;28;01mdef\u001b[39;00m \u001b[38;5;21mforward\u001b[39m(\u001b[38;5;28mself\u001b[39m, x, z\u001b[38;5;241m=\u001b[39m\u001b[38;5;28;01mNone\u001b[39;00m):\n\u001b[1;32m    186\u001b[0m     z_unsqueezed \u001b[38;5;241m=\u001b[39m z\u001b[38;5;241m.\u001b[39munsqueeze(\u001b[38;5;241m1\u001b[39m)\u001b[38;5;241m.\u001b[39mto(\u001b[38;5;124m\"\u001b[39m\u001b[38;5;124mcuda\u001b[39m\u001b[38;5;124m\"\u001b[39m)\n\u001b[0;32m--> 187\u001b[0m     o \u001b[38;5;241m=\u001b[39m (\u001b[38;5;28;43mself\u001b[39;49m\u001b[38;5;241;43m.\u001b[39;49m\u001b[43mo\u001b[49m\u001b[43m \u001b[49m\u001b[38;5;241;43m@\u001b[39;49m\u001b[43m \u001b[49m\u001b[43mz_unsqueezed\u001b[49m)\u001b[38;5;241m.\u001b[39msqueeze()\n\u001b[1;32m    188\u001b[0m     o \u001b[38;5;241m=\u001b[39m o\u001b[38;5;241m.\u001b[39mview(\u001b[38;5;241m1\u001b[39m,\n\u001b[1;32m    189\u001b[0m             \u001b[38;5;28mself\u001b[39m\u001b[38;5;241m.\u001b[39min_channels,\n\u001b[1;32m    190\u001b[0m             \u001b[38;5;28mself\u001b[39m\u001b[38;5;241m.\u001b[39mkernel_size[\u001b[38;5;241m0\u001b[39m],\n\u001b[1;32m    191\u001b[0m             \u001b[38;5;28mself\u001b[39m\u001b[38;5;241m.\u001b[39mkernel_size[\u001b[38;5;241m1\u001b[39m])\n\u001b[1;32m    192\u001b[0m     \u001b[38;5;28;01mreturn\u001b[39;00m F\u001b[38;5;241m.\u001b[39mconv2d(x, \u001b[38;5;28mself\u001b[39m\u001b[38;5;241m.\u001b[39mw\u001b[38;5;241m*\u001b[39mo, \u001b[38;5;28mself\u001b[39m\u001b[38;5;241m.\u001b[39mbias, stride\u001b[38;5;241m=\u001b[39m\u001b[38;5;28mself\u001b[39m\u001b[38;5;241m.\u001b[39mstride, padding\u001b[38;5;241m=\u001b[39m\u001b[38;5;28mself\u001b[39m\u001b[38;5;241m.\u001b[39mpadding)\n",
      "\u001b[0;31mRuntimeError\u001b[0m: mat1 and mat2 shapes cannot be multiplied (576x10 and 5x1)"
     ]
    }
   ],
   "source": [
    "# EVALUATE WITHOUT task_num\n",
    "\n",
    "num_test = 10\n",
    "test_loader = getters.get_dataset(args.dataset, 1, 5, False, kwargs)\n",
    "accs_test =  {i: 0 for i in range(num_test)}\n",
    "\n",
    "zzz = {}\n",
    "for time in tqdm(range(num_test)):\n",
    "    X, y = test_loader.get_data()\n",
    "    X, y = X.to(device), y.to(device)        \n",
    "    y_hat, z, losses = net2(X)\n",
    "    zzz[time] = z \n",
    "    #accs[time] = accs[time] + (y_hat.min(1).indices==y).sum().item()\n",
    "    accs_test[time] = accs_test[time] + (torch.tensor(y_hat) == y.to(\"cpu\")).sum().item()\n",
    "    "
   ]
  },
  {
   "cell_type": "code",
   "execution_count": 9,
   "metadata": {},
   "outputs": [
    {
     "data": {
      "text/plain": [
       "[tensor([0.8921, 0.0294, 0.0154, 0.0194, 0.0126, 0.0077, 0.0058, 0.0049, 0.0056,\n",
       "         0.0071], device='cuda:0'),\n",
       " tensor([0.9374, 0.0100, 0.0078, 0.0109, 0.0102, 0.0051, 0.0046, 0.0042, 0.0046,\n",
       "         0.0053], device='cuda:0'),\n",
       " tensor([0.7998, 0.0917, 0.0158, 0.0265, 0.0183, 0.0111, 0.0090, 0.0071, 0.0102,\n",
       "         0.0105], device='cuda:0'),\n",
       " tensor([0.6766, 0.1436, 0.0246, 0.0532, 0.0400, 0.0147, 0.0118, 0.0093, 0.0125,\n",
       "         0.0136], device='cuda:0'),\n",
       " tensor([0.5534, 0.2665, 0.0398, 0.0350, 0.0409, 0.0147, 0.0136, 0.0105, 0.0114,\n",
       "         0.0143], device='cuda:0')]"
      ]
     },
     "execution_count": 9,
     "metadata": {},
     "output_type": "execute_result"
    }
   ],
   "source": [
    "z"
   ]
  },
  {
   "cell_type": "code",
   "execution_count": 7,
   "metadata": {},
   "outputs": [
    {
     "data": {
      "text/plain": [
       "{0: 0, 1: 0, 2: 0, 3: 0, 4: 2, 5: 0, 6: 1, 7: 0, 8: 0, 9: 1}"
      ]
     },
     "execution_count": 7,
     "metadata": {},
     "output_type": "execute_result"
    }
   ],
   "source": [
    "accs_test"
   ]
  },
  {
   "cell_type": "code",
   "execution_count": 10,
   "metadata": {},
   "outputs": [
    {
     "data": {
      "text/plain": [
       "tensor([8, 8, 8, 8, 8])"
      ]
     },
     "execution_count": 10,
     "metadata": {},
     "output_type": "execute_result"
    }
   ],
   "source": [
    "torch.tensor(y_hat) "
   ]
  },
  {
   "cell_type": "code",
   "execution_count": 8,
   "metadata": {},
   "outputs": [
    {
     "data": {
      "image/png": "[encoded data removed]",
      "text/plain": [
       "<Figure size 2000x500 with 10 Axes>"
      ]
     },
     "metadata": {},
     "output_type": "display_data"
    }
   ],
   "source": [
    "\n",
    "import matplotlib.pyplot as plt\n",
    "fig, axs = plt.subplots(10, figsize=(20,5))\n",
    "for i in range(10):\n",
    "    axs[i].hist(torch.stack(zzz[i]).min(1).indices.cpu().numpy(), bins=range(10))"
   ]
  },
  {
   "cell_type": "code",
   "execution_count": 12,
   "metadata": {},
   "outputs": [
    {
     "data": {
      "text/plain": [
       "{0: [tensor([ 1.3033,  4.3467, -0.6621, -0.7403, -0.6441, -0.4234, -0.9318, -0.5678,\n",
       "           0.2038, -0.8844], device='cuda:0'),\n",
       "  tensor([ 0.9704,  4.7921, -0.7192, -0.6246, -0.7366, -0.2269, -0.6769, -0.3177,\n",
       "          -0.5625, -0.8981], device='cuda:0'),\n",
       "  tensor([ 4.2421,  1.9055, -0.7806, -0.7036, -0.6371, -0.4943, -0.8196, -0.3552,\n",
       "          -0.6010, -0.7563], device='cuda:0'),\n",
       "  tensor([ 0.6117,  4.4417, -0.7328, -0.7208, -0.4382,  0.1496, -0.7525, -0.1378,\n",
       "          -0.8089, -0.6122], device='cuda:0'),\n",
       "  tensor([ 2.4357,  3.9742, -0.7581, -0.7301, -0.6253, -0.5732, -0.8430, -0.5383,\n",
       "          -0.5264, -0.8155], device='cuda:0')],\n",
       " 1: [tensor([ 0.4247,  4.4681, -0.7333, -0.3081, -0.4378, -0.3659, -0.3816, -0.4283,\n",
       "          -0.4997, -0.7382], device='cuda:0'),\n",
       "  tensor([ 2.6166,  3.2815, -0.9868, -0.6370, -0.4151, -0.8107, -0.8876, -0.4944,\n",
       "           0.0107, -0.6772], device='cuda:0'),\n",
       "  tensor([ 0.0691,  5.1877, -0.5070, -0.5021, -0.5395, -0.4053, -0.8805, -0.2722,\n",
       "          -0.5646, -0.5855], device='cuda:0'),\n",
       "  tensor([ 0.6946,  2.5279,  0.5435, -0.3706, -0.4143, -0.2730, -1.3101, -0.2137,\n",
       "           0.9909, -1.1752], device='cuda:0'),\n",
       "  tensor([ 0.4351,  4.4849, -0.7868, -0.6484, -0.3633, -0.8419, -0.7486, -0.3315,\n",
       "          -0.6965,  0.4970], device='cuda:0')],\n",
       " 2: [tensor([ 0.7950,  4.6039, -0.9175,  0.0811, -0.6992, -0.1918, -0.3343, -0.5499,\n",
       "          -0.7897, -0.9977], device='cuda:0'),\n",
       "  tensor([ 2.4809,  4.0948, -0.7398, -0.7902, -0.5545, -0.6794, -0.7122, -0.4815,\n",
       "          -0.6610, -0.9572], device='cuda:0'),\n",
       "  tensor([-0.2709,  4.8483, -0.5843, -0.6669, -0.1174, -0.4817, -0.4390, -0.4865,\n",
       "          -0.5385, -0.2632], device='cuda:0'),\n",
       "  tensor([ 0.8665,  4.8194, -1.0550, -0.0680, -0.3281, -0.9212, -0.9022, -0.7007,\n",
       "          -0.6995, -0.0114], device='cuda:0'),\n",
       "  tensor([ 1.1811,  4.0394, -0.1152, -0.5479, -0.1074, -0.5011, -0.6256, -0.6667,\n",
       "          -0.8604, -0.7962], device='cuda:0')],\n",
       " 3: [tensor([ 2.5447,  2.3458, -0.8205, -0.8502, -1.1849, -0.8235, -0.8222,  1.9305,\n",
       "          -0.7045, -0.6153], device='cuda:0'),\n",
       "  tensor([ 2.3813,  4.0704, -0.9395, -0.8391, -0.7197, -0.5153, -0.5435, -0.4294,\n",
       "          -0.5916, -0.8737], device='cuda:0'),\n",
       "  tensor([ 1.1953,  3.3131, -0.7660, -0.8124, -0.4117,  0.8738, -0.6200, -0.3341,\n",
       "          -0.6736, -0.7644], device='cuda:0'),\n",
       "  tensor([ 2.1767,  4.0208, -0.6538, -0.8124, -0.6049, -0.2558, -0.8713, -0.5902,\n",
       "          -0.7694, -0.6397], device='cuda:0'),\n",
       "  tensor([ 3.5205,  2.8943, -0.8135, -0.5590, -0.8864, -0.1971, -0.8566,  0.3234,\n",
       "          -1.2432, -1.1823], device='cuda:0')],\n",
       " 4: [tensor([ 1.3118,  4.2627, -0.4439, -0.9194, -0.7356,  0.1487, -0.7282, -0.4850,\n",
       "          -0.7245, -0.6867], device='cuda:0'),\n",
       "  tensor([ 2.0921,  3.9655, -0.9617, -0.8341, -0.2554, -0.7031, -0.5346, -0.3962,\n",
       "          -0.7540, -0.6186], device='cuda:0'),\n",
       "  tensor([ 0.3882,  4.9585, -0.7760, -0.5925, -0.5919, -0.4792, -0.4450, -0.4842,\n",
       "          -0.4297, -0.5481], device='cuda:0'),\n",
       "  tensor([ 0.9651,  2.4801, -0.8210, -0.8851, -0.0547, -0.5345, -0.2313,  0.0360,\n",
       "          -1.0228,  1.0682], device='cuda:0'),\n",
       "  tensor([ 2.6767,  3.0796, -0.5898, -0.5241, -0.5930, -0.8146, -0.8469, -0.1743,\n",
       "          -0.6439, -0.5698], device='cuda:0')]}"
      ]
     },
     "execution_count": 12,
     "metadata": {},
     "output_type": "execute_result"
    }
   ],
   "source": [
    "zzz"
   ]
  },
  {
   "cell_type": "code",
   "execution_count": 90,
   "metadata": {},
   "outputs": [],
   "source": [
    "# import matplotlib.pyplot as plt #koń, pies, samolot\n",
    "# fig, axs = plt.subplots(10,figsize=(5,40))\n",
    "# for idx, i in enumerate(X[:10]):\n",
    "#     axs[idx].imshow(i.permute(1,2,0).numpy())"
   ]
  },
  {
   "cell_type": "code",
   "execution_count": 89,
   "metadata": {},
   "outputs": [
    {
     "data": {
      "text/plain": [
       "{0: 2, 1: 1, 2: 0}"
      ]
     },
     "execution_count": 89,
     "metadata": {},
     "output_type": "execute_result"
    }
   ],
   "source": [
    "accs"
   ]
  },
  {
   "cell_type": "code",
   "execution_count": 88,
   "metadata": {},
   "outputs": [
    {
     "data": {
      "text/plain": [
       "[tensor([-245.9485,   41.0720,  123.7339,  -20.3982,  -13.6119,    2.4594,\n",
       "           23.8586,   11.9880,   15.3942,  -23.4679], device='cuda:0'),\n",
       " tensor([-220.8584,    2.0477,  138.7914,  -26.9805,  -22.2933,   -4.6194,\n",
       "           26.4026,   11.6240,    6.5466,   -9.4133], device='cuda:0'),\n",
       " tensor([-213.2227,   20.5275,  144.8369,   -5.1570,   14.7023,   23.5151,\n",
       "           33.5397,   13.4607,   30.3790,    3.5353], device='cuda:0'),\n",
       " tensor([-213.2119,   50.4990,  157.6112,   13.9355,   -3.1974,    4.1927,\n",
       "           -2.4120,   44.0033,    9.7511,  -11.4271], device='cuda:0'),\n",
       " tensor([-215.6507,   42.1164,  148.8064,   -7.6765,  -30.4505,   -3.6351,\n",
       "            5.5471,    7.2766,    2.2397,  -24.2976], device='cuda:0')]"
      ]
     },
     "execution_count": 88,
     "metadata": {},
     "output_type": "execute_result"
    }
   ],
   "source": [
    "zzz[1]"
   ]
  },
  {
   "cell_type": "code",
   "execution_count": 7,
   "metadata": {},
   "outputs": [
    {
     "ename": "NameError",
     "evalue": "name 'plt' is not defined",
     "output_type": "error",
     "traceback": [
      "\u001b[0;31m---------------------------------------------------------------------------\u001b[0m",
      "\u001b[0;31mNameError\u001b[0m                                 Traceback (most recent call last)",
      "Cell \u001b[0;32mIn[7], line 1\u001b[0m\n\u001b[0;32m----> 1\u001b[0m fig, axs \u001b[38;5;241m=\u001b[39m \u001b[43mplt\u001b[49m\u001b[38;5;241m.\u001b[39msubplots(\u001b[38;5;241m3\u001b[39m)\n\u001b[1;32m      2\u001b[0m \u001b[38;5;28;01mfor\u001b[39;00m i \u001b[38;5;129;01min\u001b[39;00m \u001b[38;5;28mrange\u001b[39m(\u001b[38;5;241m3\u001b[39m):\n\u001b[1;32m      3\u001b[0m     axs[i]\u001b[38;5;241m.\u001b[39mhist(torch\u001b[38;5;241m.\u001b[39mstack(zzz[i])\u001b[38;5;241m.\u001b[39mmin(\u001b[38;5;241m1\u001b[39m)\u001b[38;5;241m.\u001b[39mindices\u001b[38;5;241m.\u001b[39mcpu()\u001b[38;5;241m.\u001b[39mnumpy())\n",
      "\u001b[0;31mNameError\u001b[0m: name 'plt' is not defined"
     ]
    }
   ],
   "source": [
    "fig, axs = plt.subplots(3)\n",
    "for i in range(3):\n",
    "    axs[i].hist(torch.stack(zzz[i]).min(1).indices.cpu().numpy())"
   ]
  },
  {
   "cell_type": "code",
   "execution_count": null,
   "metadata": {},
   "outputs": [],
   "source": [
    "# PROBLEM 5 samples = 1 minute"
   ]
  },
  {
   "cell_type": "code",
   "execution_count": null,
   "metadata": {},
   "outputs": [],
   "source": []
  },
  {
   "cell_type": "code",
   "execution_count": 2,
   "metadata": {},
   "outputs": [],
   "source": [
    "\n",
    "m = models_jw.HashResNet18(10)"
   ]
  },
  {
   "cell_type": "code",
   "execution_count": 3,
   "metadata": {},
   "outputs": [
    {
     "data": {
      "text/plain": [
       "HashResNet(\n",
       "  (conv1): Conv2d(3, 64, kernel_size=(3, 3), stride=(1, 1), padding=(1, 1), bias=False)\n",
       "  (bn1): BatchNorm2d(64, eps=1e-05, momentum=0.1, affine=False, track_running_stats=False)\n",
       "  (layer1): ModuleList(\n",
       "    (0-1): 2 x HashBasicBlock(\n",
       "      (conv1): HashConv2d()\n",
       "      (bn1): BatchNorm2d(64, eps=1e-05, momentum=0.1, affine=False, track_running_stats=False)\n",
       "      (conv2): HashConv2d()\n",
       "      (bn2): BatchNorm2d(64, eps=1e-05, momentum=0.1, affine=False, track_running_stats=False)\n",
       "      (shortcut): ModuleList()\n",
       "    )\n",
       "  )\n",
       "  (layer2): ModuleList(\n",
       "    (0): HashBasicBlock(\n",
       "      (conv1): HashConv2d()\n",
       "      (bn1): BatchNorm2d(128, eps=1e-05, momentum=0.1, affine=False, track_running_stats=False)\n",
       "      (conv2): HashConv2d()\n",
       "      (bn2): BatchNorm2d(128, eps=1e-05, momentum=0.1, affine=False, track_running_stats=False)\n",
       "      (shortcut): ModuleList(\n",
       "        (0): HashConv2d()\n",
       "        (1): BatchNorm2d(128, eps=1e-05, momentum=0.1, affine=False, track_running_stats=False)\n",
       "      )\n",
       "    )\n",
       "    (1): HashBasicBlock(\n",
       "      (conv1): HashConv2d()\n",
       "      (bn1): BatchNorm2d(128, eps=1e-05, momentum=0.1, affine=False, track_running_stats=False)\n",
       "      (conv2): HashConv2d()\n",
       "      (bn2): BatchNorm2d(128, eps=1e-05, momentum=0.1, affine=False, track_running_stats=False)\n",
       "      (shortcut): ModuleList()\n",
       "    )\n",
       "  )\n",
       "  (layer3): ModuleList(\n",
       "    (0): HashBasicBlock(\n",
       "      (conv1): HashConv2d()\n",
       "      (bn1): BatchNorm2d(256, eps=1e-05, momentum=0.1, affine=False, track_running_stats=False)\n",
       "      (conv2): HashConv2d()\n",
       "      (bn2): BatchNorm2d(256, eps=1e-05, momentum=0.1, affine=False, track_running_stats=False)\n",
       "      (shortcut): ModuleList(\n",
       "        (0): HashConv2d()\n",
       "        (1): BatchNorm2d(256, eps=1e-05, momentum=0.1, affine=False, track_running_stats=False)\n",
       "      )\n",
       "    )\n",
       "    (1): HashBasicBlock(\n",
       "      (conv1): HashConv2d()\n",
       "      (bn1): BatchNorm2d(256, eps=1e-05, momentum=0.1, affine=False, track_running_stats=False)\n",
       "      (conv2): HashConv2d()\n",
       "      (bn2): BatchNorm2d(256, eps=1e-05, momentum=0.1, affine=False, track_running_stats=False)\n",
       "      (shortcut): ModuleList()\n",
       "    )\n",
       "  )\n",
       "  (layer4): ModuleList(\n",
       "    (0): HashBasicBlock(\n",
       "      (conv1): HashConv2d()\n",
       "      (bn1): BatchNorm2d(512, eps=1e-05, momentum=0.1, affine=False, track_running_stats=False)\n",
       "      (conv2): HashConv2d()\n",
       "      (bn2): BatchNorm2d(512, eps=1e-05, momentum=0.1, affine=False, track_running_stats=False)\n",
       "      (shortcut): ModuleList(\n",
       "        (0): HashConv2d()\n",
       "        (1): BatchNorm2d(512, eps=1e-05, momentum=0.1, affine=False, track_running_stats=False)\n",
       "      )\n",
       "    )\n",
       "    (1): HashBasicBlock(\n",
       "      (conv1): HashConv2d()\n",
       "      (bn1): BatchNorm2d(512, eps=1e-05, momentum=0.1, affine=False, track_running_stats=False)\n",
       "      (conv2): HashConv2d()\n",
       "      (bn2): BatchNorm2d(512, eps=1e-05, momentum=0.1, affine=False, track_running_stats=False)\n",
       "      (shortcut): ModuleList()\n",
       "    )\n",
       "  )\n",
       "  (linear): BinaryHashLinear()\n",
       ")"
      ]
     },
     "execution_count": 3,
     "metadata": {},
     "output_type": "execute_result"
    }
   ],
   "source": [
    "m.to(\"cuda\")"
   ]
  },
  {
   "cell_type": "code",
   "execution_count": 10,
   "metadata": {},
   "outputs": [],
   "source": [
    "img = torch.rand((20,3,32,32), device=\"cuda\")"
   ]
  },
  {
   "cell_type": "code",
   "execution_count": 13,
   "metadata": {},
   "outputs": [
    {
     "data": {
      "text/plain": [
       "12.0"
      ]
     },
     "execution_count": 13,
     "metadata": {},
     "output_type": "execute_result"
    }
   ],
   "source": []
  },
  {
   "cell_type": "code",
   "execution_count": 12,
   "metadata": {},
   "outputs": [
    {
     "data": {
      "text/plain": [
       "([tensor(9),\n",
       "  tensor(9),\n",
       "  tensor(9),\n",
       "  tensor(9),\n",
       "  tensor(9),\n",
       "  tensor(9),\n",
       "  tensor(9),\n",
       "  tensor(9),\n",
       "  tensor(9),\n",
       "  tensor(9),\n",
       "  tensor(9),\n",
       "  tensor(9),\n",
       "  tensor(9),\n",
       "  tensor(9),\n",
       "  tensor(9),\n",
       "  tensor(9),\n",
       "  tensor(9),\n",
       "  tensor(9),\n",
       "  tensor(9),\n",
       "  tensor(9)],\n",
       " [tensor([ 0.3867,  1.7251, -2.1452,  1.6405,  1.8650, -0.2516, -0.1177, -0.6333,\n",
       "          -0.3887,  0.8633], device='cuda:0'),\n",
       "  tensor([-0.0706,  0.6241, -0.7360,  1.6453,  2.5672, -1.7667,  0.4365, -1.1464,\n",
       "           0.0431,  0.3689], device='cuda:0'),\n",
       "  tensor([ 0.1246,  1.6834, -1.1506,  1.3375,  2.3137, -1.2102, -0.0281, -0.8342,\n",
       "          -0.2544,  1.0565], device='cuda:0'),\n",
       "  tensor([ 0.1914,  2.1499, -0.2643,  1.0539,  1.9850, -1.1633, -0.0533, -0.1179,\n",
       "           0.6964,  0.6024], device='cuda:0'),\n",
       "  tensor([ 0.6807,  1.5459, -1.5954,  0.9104,  2.4229, -1.9098, -0.8851, -0.3445,\n",
       "          -0.3381,  0.7602], device='cuda:0'),\n",
       "  tensor([-0.5505,  1.9644, -1.0665,  1.6075,  2.0348, -0.4183, -0.2435, -0.8585,\n",
       "           0.1390,  0.6713], device='cuda:0'),\n",
       "  tensor([ 0.7799,  1.3138, -0.9207,  1.7433,  2.3234, -0.6825,  0.1990, -0.1293,\n",
       "          -0.8779,  0.7782], device='cuda:0'),\n",
       "  tensor([ 0.8788,  1.0570, -0.8200,  1.4384,  2.4120, -1.6772, -0.4965,  0.3740,\n",
       "          -0.1027,  0.7836], device='cuda:0'),\n",
       "  tensor([ 0.0429,  1.5774, -1.3967,  1.2432,  2.6253, -1.4149,  0.0804, -1.6232,\n",
       "          -0.2149,  0.8747], device='cuda:0'),\n",
       "  tensor([-0.0788,  2.1373, -0.8455,  0.7884,  2.3837, -0.6535,  0.0281, -0.6914,\n",
       "          -0.2771,  0.5807], device='cuda:0'),\n",
       "  tensor([ 0.1667,  0.9549, -1.0855,  0.9607,  2.8615, -1.2399,  0.3380, -0.1766,\n",
       "          -0.0780,  1.4476], device='cuda:0'),\n",
       "  tensor([ 0.8624,  1.6175, -0.6650,  0.6726,  2.6649, -0.7528,  0.0366, -1.1133,\n",
       "          -0.0029,  1.2394], device='cuda:0'),\n",
       "  tensor([ 0.8060,  1.6944, -1.7520,  0.6463,  1.3547, -1.0021, -0.1200, -0.6089,\n",
       "           0.5555,  1.6382], device='cuda:0'),\n",
       "  tensor([ 1.0236,  1.7261, -1.0950,  1.1129,  2.6095,  0.0694, -0.2898, -0.5892,\n",
       "           0.1888,  0.4980], device='cuda:0'),\n",
       "  tensor([ 1.2357,  1.2472,  0.1126,  1.0930,  1.8671, -0.9228, -0.2605, -0.7654,\n",
       "           0.4954,  0.9134], device='cuda:0'),\n",
       "  tensor([ 0.1823,  0.9197, -1.7656,  1.3958,  2.1991, -0.4111,  0.2993, -0.9178,\n",
       "           0.1159,  1.8332], device='cuda:0'),\n",
       "  tensor([ 0.7104,  1.6679, -0.2894,  1.6703,  1.9045, -1.1037, -0.0640, -0.1172,\n",
       "          -0.7472,  1.0001], device='cuda:0'),\n",
       "  tensor([ 0.0550,  1.1037, -1.2028,  1.4291,  2.4836, -0.3595,  0.1799,  0.2603,\n",
       "           0.4109,  1.0724], device='cuda:0'),\n",
       "  tensor([ 0.3766,  0.2113, -1.7346,  1.8158,  2.5938, -0.4781, -0.1668, -0.3841,\n",
       "          -0.1027,  0.5730], device='cuda:0'),\n",
       "  tensor([ 0.6439,  0.2379, -0.8861,  1.4888,  2.2068, -1.4532, -0.7745, -0.5813,\n",
       "          -0.3710,  1.5546], device='cuda:0')])"
      ]
     },
     "execution_count": 12,
     "metadata": {},
     "output_type": "execute_result"
    }
   ],
   "source": [
    "m(img)#, torch.ones(10, device=\"cuda\", requires_grad=True))"
   ]
  },
  {
   "cell_type": "code",
   "execution_count": 16,
   "metadata": {},
   "outputs": [],
   "source": [
    "y_hat = preds[-gt]\n",
    "proper_pred = torch.gather(y_hat, 1, gt.view(-1, 1)).squeeze()"
   ]
  },
  {
   "cell_type": "code",
   "execution_count": 38,
   "metadata": {},
   "outputs": [],
   "source": [
    "y_hat = torch.tensor([[1,1.1,3,4], [5,6,-7,1]])\n",
    "gt = torch.tensor([0,3])"
   ]
  },
  {
   "cell_type": "code",
   "execution_count": 39,
   "metadata": {},
   "outputs": [
    {
     "data": {
      "text/plain": [
       "tensor(9.9000)"
      ]
     },
     "execution_count": 39,
     "metadata": {},
     "output_type": "execute_result"
    }
   ],
   "source": [
    "hinge_loss(y_hat, gt)"
   ]
  },
  {
   "cell_type": "code",
   "execution_count": 28,
   "metadata": {},
   "outputs": [
    {
     "data": {
      "text/plain": [
       "tensor(0.)"
      ]
     },
     "execution_count": 28,
     "metadata": {},
     "output_type": "execute_result"
    }
   ],
   "source": [
    "mask = torch.ones(y_hat.size(), dtype=torch.bool)\n",
    "rows = torch.arange(y_hat.size(0))\n",
    "mask[rows, gt] = False\n",
    "y_hat_wrongs = y_hat[mask].reshape(y_hat.size(0), y_hat.size(1) - 1)\n",
    "torch.clamp(proper_pred - y_hat_wrongs + 1, min=0).sum()\n",
    "\n",
    "\n",
    "\n"
   ]
  },
  {
   "cell_type": "code",
   "execution_count": 26,
   "metadata": {},
   "outputs": [
    {
     "data": {
      "text/plain": [
       "tensor([[2, 3, 4],\n",
       "        [5, 6, 7]])"
      ]
     },
     "execution_count": 26,
     "metadata": {},
     "output_type": "execute_result"
    }
   ],
   "source": [
    "new_tensor"
   ]
  },
  {
   "cell_type": "code",
   "execution_count": 11,
   "metadata": {},
   "outputs": [
    {
     "data": {
      "text/plain": [
       "tensor([[ 0.0000, 16.9066,  0.9249,  0.9669,  1.0736,  1.0238,  7.9881,  1.2362,\n",
       "         -0.1323,  1.1910]])"
      ]
     },
     "execution_count": 11,
     "metadata": {},
     "output_type": "execute_result"
    }
   ],
   "source": [
    "y_hat - proper_pred"
   ]
  },
  {
   "cell_type": "code",
   "execution_count": 21,
   "metadata": {},
   "outputs": [
    {
     "data": {
      "text/plain": [
       "tensor([-0.3650, 16.5416,  0.5599,  0.6019,  0.7086,  0.6588,  7.6231,  0.8712,\n",
       "        -0.4973,  0.8260])"
      ]
     },
     "execution_count": 21,
     "metadata": {},
     "output_type": "execute_result"
    }
   ],
   "source": [
    "mask = torch.ones(tensor.size(1), dtype=torch.bool)\n",
    "mask[indices_to_delete] = False"
   ]
  },
  {
   "cell_type": "code",
   "execution_count": 18,
   "metadata": {},
   "outputs": [
    {
     "data": {
      "text/plain": [
       "tensor([[1.0000, 0.0000, 0.0751, 0.0331, 0.0000, 0.0000, 0.0000, 0.0000, 1.1323,\n",
       "         0.0000]])"
      ]
     },
     "execution_count": 18,
     "metadata": {},
     "output_type": "execute_result"
    }
   ],
   "source": [
    "torch.clamp(proper_pred - y_hat + 1, min=0)"
   ]
  },
  {
   "cell_type": "code",
   "execution_count": 3,
   "metadata": {},
   "outputs": [],
   "source": [
    "preds = -torch.tensor([[  0.3650, -16.5416,  -0.5599,  -0.6019,  -0.7086,  -0.6588,  -7.6231,\n",
    "         -0.8712,   0.4973,  -0.8260]])\n",
    "gt = torch.tensor([0])"
   ]
  },
  {
   "cell_type": "code",
   "execution_count": 4,
   "metadata": {},
   "outputs": [
    {
     "ename": "KeyboardInterrupt",
     "evalue": "",
     "output_type": "error",
     "traceback": [
      "\u001b[0;31m---------------------------------------------------------------------------\u001b[0m",
      "\u001b[0;31mKeyboardInterrupt\u001b[0m                         Traceback (most recent call last)",
      "Cell \u001b[0;32mIn[4], line 1\u001b[0m\n\u001b[0;32m----> 1\u001b[0m \u001b[43msquare_square_loss\u001b[49m\u001b[43m(\u001b[49m\u001b[43mpreds\u001b[49m\u001b[43m,\u001b[49m\u001b[43m \u001b[49m\u001b[43mgt\u001b[49m\u001b[43m)\u001b[49m\n",
      "Cell \u001b[0;32mIn[2], line 15\u001b[0m, in \u001b[0;36msquare_square_loss\u001b[0;34m(y_hat, gt, margin)\u001b[0m\n\u001b[1;32m     13\u001b[0m N \u001b[38;5;241m=\u001b[39m y_hat[\u001b[38;5;241m0\u001b[39m]\u001b[38;5;241m.\u001b[39mshape[\u001b[38;5;241m0\u001b[39m]\n\u001b[1;32m     14\u001b[0m proper_pred \u001b[38;5;241m=\u001b[39m torch\u001b[38;5;241m.\u001b[39mgather(y_hat, \u001b[38;5;241m1\u001b[39m, gt\u001b[38;5;241m.\u001b[39mview(\u001b[38;5;241m-\u001b[39m\u001b[38;5;241m1\u001b[39m, \u001b[38;5;241m1\u001b[39m))\u001b[38;5;241m.\u001b[39msqueeze()\n\u001b[0;32m---> 15\u001b[0m mean \u001b[38;5;241m=\u001b[39m (\u001b[43mtorch\u001b[49m\u001b[38;5;241m.\u001b[39msum(y_hat, dim\u001b[38;5;241m=\u001b[39m\u001b[38;5;241m1\u001b[39m) \u001b[38;5;241m-\u001b[39m proper_pred)\u001b[38;5;241m/\u001b[39m(N\u001b[38;5;241m-\u001b[39m\u001b[38;5;241m1\u001b[39m)\n\u001b[1;32m     16\u001b[0m loss \u001b[38;5;241m=\u001b[39m (proper_pred\u001b[38;5;241m*\u001b[39m\u001b[38;5;241m*\u001b[39m\u001b[38;5;241m2\u001b[39m \u001b[38;5;241m+\u001b[39m (mean \u001b[38;5;241m-\u001b[39m margin\u001b[38;5;241m*\u001b[39mtorch\u001b[38;5;241m.\u001b[39mones_like(mean))\u001b[38;5;241m*\u001b[39m\u001b[38;5;241m*\u001b[39m\u001b[38;5;241m2\u001b[39m)\u001b[38;5;241m.\u001b[39mmean()\n\u001b[1;32m     17\u001b[0m \u001b[38;5;28;01mreturn\u001b[39;00m loss\n",
      "Cell \u001b[0;32mIn[2], line 15\u001b[0m, in \u001b[0;36msquare_square_loss\u001b[0;34m(y_hat, gt, margin)\u001b[0m\n\u001b[1;32m     13\u001b[0m N \u001b[38;5;241m=\u001b[39m y_hat[\u001b[38;5;241m0\u001b[39m]\u001b[38;5;241m.\u001b[39mshape[\u001b[38;5;241m0\u001b[39m]\n\u001b[1;32m     14\u001b[0m proper_pred \u001b[38;5;241m=\u001b[39m torch\u001b[38;5;241m.\u001b[39mgather(y_hat, \u001b[38;5;241m1\u001b[39m, gt\u001b[38;5;241m.\u001b[39mview(\u001b[38;5;241m-\u001b[39m\u001b[38;5;241m1\u001b[39m, \u001b[38;5;241m1\u001b[39m))\u001b[38;5;241m.\u001b[39msqueeze()\n\u001b[0;32m---> 15\u001b[0m mean \u001b[38;5;241m=\u001b[39m (\u001b[43mtorch\u001b[49m\u001b[38;5;241m.\u001b[39msum(y_hat, dim\u001b[38;5;241m=\u001b[39m\u001b[38;5;241m1\u001b[39m) \u001b[38;5;241m-\u001b[39m proper_pred)\u001b[38;5;241m/\u001b[39m(N\u001b[38;5;241m-\u001b[39m\u001b[38;5;241m1\u001b[39m)\n\u001b[1;32m     16\u001b[0m loss \u001b[38;5;241m=\u001b[39m (proper_pred\u001b[38;5;241m*\u001b[39m\u001b[38;5;241m*\u001b[39m\u001b[38;5;241m2\u001b[39m \u001b[38;5;241m+\u001b[39m (mean \u001b[38;5;241m-\u001b[39m margin\u001b[38;5;241m*\u001b[39mtorch\u001b[38;5;241m.\u001b[39mones_like(mean))\u001b[38;5;241m*\u001b[39m\u001b[38;5;241m*\u001b[39m\u001b[38;5;241m2\u001b[39m)\u001b[38;5;241m.\u001b[39mmean()\n\u001b[1;32m     17\u001b[0m \u001b[38;5;28;01mreturn\u001b[39;00m loss\n",
      "File \u001b[0;32m_pydevd_bundle/pydevd_cython.pyx:1457\u001b[0m, in \u001b[0;36m_pydevd_bundle.pydevd_cython.SafeCallWrapper.__call__\u001b[0;34m()\u001b[0m\n",
      "File \u001b[0;32m_pydevd_bundle/pydevd_cython.pyx:701\u001b[0m, in \u001b[0;36m_pydevd_bundle.pydevd_cython.PyDBFrame.trace_dispatch\u001b[0;34m()\u001b[0m\n",
      "File \u001b[0;32m_pydevd_bundle/pydevd_cython.pyx:1152\u001b[0m, in \u001b[0;36m_pydevd_bundle.pydevd_cython.PyDBFrame.trace_dispatch\u001b[0;34m()\u001b[0m\n",
      "File \u001b[0;32m_pydevd_bundle/pydevd_cython.pyx:1135\u001b[0m, in \u001b[0;36m_pydevd_bundle.pydevd_cython.PyDBFrame.trace_dispatch\u001b[0;34m()\u001b[0m\n",
      "File \u001b[0;32m_pydevd_bundle/pydevd_cython.pyx:312\u001b[0m, in \u001b[0;36m_pydevd_bundle.pydevd_cython.PyDBFrame.do_wait_suspend\u001b[0;34m()\u001b[0m\n",
      "File \u001b[0;32m~/superposition/.venv/lib/python3.10/site-packages/debugpy/_vendored/pydevd/pydevd.py:2070\u001b[0m, in \u001b[0;36mPyDB.do_wait_suspend\u001b[0;34m(self, thread, frame, event, arg, exception_type)\u001b[0m\n\u001b[1;32m   2067\u001b[0m             from_this_thread\u001b[38;5;241m.\u001b[39mappend(frame_custom_thread_id)\n\u001b[1;32m   2069\u001b[0m     \u001b[38;5;28;01mwith\u001b[39;00m \u001b[38;5;28mself\u001b[39m\u001b[38;5;241m.\u001b[39m_threads_suspended_single_notification\u001b[38;5;241m.\u001b[39mnotify_thread_suspended(thread_id, thread, stop_reason):\n\u001b[0;32m-> 2070\u001b[0m         keep_suspended \u001b[38;5;241m=\u001b[39m \u001b[38;5;28;43mself\u001b[39;49m\u001b[38;5;241;43m.\u001b[39;49m\u001b[43m_do_wait_suspend\u001b[49m\u001b[43m(\u001b[49m\u001b[43mthread\u001b[49m\u001b[43m,\u001b[49m\u001b[43m \u001b[49m\u001b[43mframe\u001b[49m\u001b[43m,\u001b[49m\u001b[43m \u001b[49m\u001b[43mevent\u001b[49m\u001b[43m,\u001b[49m\u001b[43m \u001b[49m\u001b[43marg\u001b[49m\u001b[43m,\u001b[49m\u001b[43m \u001b[49m\u001b[43msuspend_type\u001b[49m\u001b[43m,\u001b[49m\u001b[43m \u001b[49m\u001b[43mfrom_this_thread\u001b[49m\u001b[43m,\u001b[49m\u001b[43m \u001b[49m\u001b[43mframes_tracker\u001b[49m\u001b[43m)\u001b[49m\n\u001b[1;32m   2072\u001b[0m frames_list \u001b[38;5;241m=\u001b[39m \u001b[38;5;28;01mNone\u001b[39;00m\n\u001b[1;32m   2074\u001b[0m \u001b[38;5;28;01mif\u001b[39;00m keep_suspended:\n\u001b[1;32m   2075\u001b[0m     \u001b[38;5;66;03m# This means that we should pause again after a set next statement.\u001b[39;00m\n",
      "File \u001b[0;32m~/superposition/.venv/lib/python3.10/site-packages/debugpy/_vendored/pydevd/pydevd.py:2106\u001b[0m, in \u001b[0;36mPyDB._do_wait_suspend\u001b[0;34m(self, thread, frame, event, arg, suspend_type, from_this_thread, frames_tracker)\u001b[0m\n\u001b[1;32m   2103\u001b[0m         \u001b[38;5;28mself\u001b[39m\u001b[38;5;241m.\u001b[39m_call_input_hook()\n\u001b[1;32m   2105\u001b[0m     \u001b[38;5;28mself\u001b[39m\u001b[38;5;241m.\u001b[39mprocess_internal_commands()\n\u001b[0;32m-> 2106\u001b[0m     \u001b[43mtime\u001b[49m\u001b[38;5;241;43m.\u001b[39;49m\u001b[43msleep\u001b[49m\u001b[43m(\u001b[49m\u001b[38;5;241;43m0.01\u001b[39;49m\u001b[43m)\u001b[49m\n\u001b[1;32m   2108\u001b[0m \u001b[38;5;28mself\u001b[39m\u001b[38;5;241m.\u001b[39mcancel_async_evaluation(get_current_thread_id(thread), \u001b[38;5;28mstr\u001b[39m(\u001b[38;5;28mid\u001b[39m(frame)))\n\u001b[1;32m   2110\u001b[0m \u001b[38;5;66;03m# process any stepping instructions\u001b[39;00m\n",
      "\u001b[0;31mKeyboardInterrupt\u001b[0m: "
     ]
    }
   ],
   "source": [
    "square_square_loss(preds, gt)"
   ]
  },
  {
   "cell_type": "code",
   "execution_count": 88,
   "metadata": {},
   "outputs": [
    {
     "data": {
      "text/plain": [
       "tensor(0.)"
      ]
     },
     "execution_count": 88,
     "metadata": {},
     "output_type": "execute_result"
    }
   ],
   "source": [
    "hinge_loss(preds, gt)"
   ]
  },
  {
   "cell_type": "markdown",
   "metadata": {},
   "source": [
    "square_square_loss(preds, gt)"
   ]
  },
  {
   "cell_type": "code",
   "execution_count": 46,
   "metadata": {},
   "outputs": [
    {
     "data": {
      "text/plain": [
       "tensor([0, 1, 2])"
      ]
     },
     "execution_count": 46,
     "metadata": {},
     "output_type": "execute_result"
    }
   ],
   "source": [
    "torch.arange(3)"
   ]
  },
  {
   "cell_type": "code",
   "execution_count": null,
   "metadata": {},
   "outputs": [],
   "source": [
    "import torch\n",
    "import torch.optim as optim\n",
    "\n",
    "\n",
    "def inference(x, net, C=3):\n",
    "    min_value = float('inf')\n",
    "    min_x = None\n",
    "    min_y = None\n",
    "\n",
    "    def energy(z, y, x, net):\n",
    "        return net(x, z)[y]\n",
    "\n",
    "    def minimize_with_respect_to_z(y, x, net, lr=0.01, num_steps=1000):\n",
    "        z = torch.ones(C)/C\n",
    "        \n",
    "        optimizer = optim.SGD([z], lr=lr)\n",
    "        \n",
    "        for _ in range(num_steps):\n",
    "            optimizer.zero_grad()\n",
    "            loss = energy(z, y, x, net)\n",
    "            loss.backward()\n",
    "            optimizer.step()\n",
    "        return z.detach(), energy(z.detach(), y, x, net).detach()\n",
    "\n",
    "    for y in torch.arange(C):\n",
    "        x_min, e_min = minimize_with_respect_to_z(y, x, net)\n",
    "        if e_min < min_value:\n",
    "            min_value = e_min\n",
    "            min_x = x_min\n",
    "            min_y = y\n",
    "    \n",
    "    print(f\"Global minimum found at x = {min_x.item()}, y = {min_y.item()}, with E(x, y) = {min_value.item()}\")"
   ]
  }
 ],
 "metadata": {
  "kernelspec": {
   "display_name": ".venv",
   "language": "python",
   "name": "python3"
  },
  "language_info": {
   "codemirror_mode": {
    "name": "ipython",
    "version": 3
   },
   "file_extension": ".py",
   "mimetype": "text/x-python",
   "name": "python",
   "nbconvert_exporter": "python",
   "pygments_lexer": "ipython3",
   "version": "3.10.12"
  }
 },
 "nbformat": 4,
 "nbformat_minor": 2
}
