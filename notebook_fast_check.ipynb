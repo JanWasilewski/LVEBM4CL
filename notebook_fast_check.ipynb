{
 "cells": [
  {
   "cell_type": "code",
   "execution_count": 3,
   "metadata": {},
   "outputs": [
    {
     "name": "stdout",
     "output_type": "stream",
     "text": [
      "Files already downloaded and verified\n",
      "Files already downloaded and verified\n"
     ]
    },
    {
     "data": {
      "text/plain": [
       "<All keys matched successfully>"
      ]
     },
     "execution_count": 3,
     "metadata": {},
     "output_type": "execute_result"
    }
   ],
   "source": [
    "import torch\n",
    "import models_jw\n",
    "from utils import *\n",
    "from tqdm import tqdm\n",
    "import numpy as np\n",
    "from configs import paramsuper, getters\n",
    "\n",
    "device = \"cuda\"\n",
    "\n",
    "args = paramsuper.ICIFARHashResNet18()\n",
    "\n",
    "torch.manual_seed(args.seed)\n",
    "np.random.seed(0)\n",
    "\n",
    "use_cuda = not args.no_cuda and torch.cuda.is_available()\n",
    "device = torch.device(\"cuda\" if use_cuda else \"cpu\")\n",
    "training_period = 20000\n",
    "\n",
    "kwargs = {'num_workers': 1, 'pin_memory': True} if use_cuda else {}\n",
    "train_loader = getters.get_dataset(args.dataset, training_period, args.batch_size, True, kwargs)\n",
    "\n",
    "torch.manual_seed(1)\n",
    "np.random.seed(0)\n",
    "\n",
    "net2 = models_jw.HashResNet18(10).to(device)\n",
    "net2.load_state_dict(torch.load(\"trained_models/5_tasks_hunge10.pth\"))"
   ]
  },
  {
   "cell_type": "code",
   "execution_count": 4,
   "metadata": {},
   "outputs": [
    {
     "name": "stdout",
     "output_type": "stream",
     "text": [
      "Files already downloaded and verified\n",
      "Files already downloaded and verified\n"
     ]
    },
    {
     "name": "stderr",
     "output_type": "stream",
     "text": [
      " 60%|██████    | 6/10 [01:13<00:48, 12.15s/it]"
     ]
    }
   ],
   "source": [
    "# EVALUATE WITHOUT task_num\n",
    "\n",
    "num_test = 10\n",
    "test_loader = getters.get_dataset(args.dataset, 1, 5, False, kwargs)\n",
    "accs_test =  {i: 0 for i in range(num_test)}\n",
    "\n",
    "zzz = {}\n",
    "for time in tqdm(range(num_test)):\n",
    "    X, y = test_loader.get_data()\n",
    "    X, y = X.to(device), y.to(device)        \n",
    "    y_hat, z, losses = net2(X)\n",
    "    zzz[time] = z \n",
    "    #accs[time] = accs[time] + (y_hat.min(1).indices==y).sum().item()\n",
    "    accs_test[time] = accs_test[time] + (torch.tensor(y_hat) == y.to(\"cpu\")).sum().item()\n",
    "    "
   ]
  },
  {
   "cell_type": "code",
   "execution_count": 4,
   "metadata": {},
   "outputs": [
    {
     "data": {
      "text/plain": [
       "{0: 0, 1: 1, 2: 0, 3: 1, 4: 0, 5: 0, 6: 1, 7: 0, 8: 1, 9: 0}"
      ]
     },
     "execution_count": 4,
     "metadata": {},
     "output_type": "execute_result"
    }
   ],
   "source": [
    "accs_test"
   ]
  },
  {
   "cell_type": "code",
   "execution_count": 3,
   "metadata": {},
   "outputs": [
    {
     "data": {
      "text/plain": [
       "{0: [tensor([1., 1., 1., 1., 1., 0., 0., 0., 0., 0.], device='cuda:0',\n",
       "         grad_fn=<CatBackward0>),\n",
       "  tensor([1., 1., 1., 1., 1., 0., 0., 0., 0., 0.], device='cuda:0',\n",
       "         grad_fn=<CatBackward0>),\n",
       "  tensor([1., 1., 1., 1., 1., 0., 0., 0., 0., 0.], device='cuda:0',\n",
       "         grad_fn=<CatBackward0>),\n",
       "  tensor([1., 1., 1., 1., 1., 0., 0., 0., 0., 0.], device='cuda:0',\n",
       "         grad_fn=<CatBackward0>),\n",
       "  tensor([1., 1., 1., 1., 1., 0., 0., 0., 0., 0.], device='cuda:0',\n",
       "         grad_fn=<CatBackward0>)],\n",
       " 1: [tensor([1., 1., 1., 1., 1., 0., 0., 0., 0., 0.], device='cuda:0',\n",
       "         grad_fn=<CatBackward0>),\n",
       "  tensor([1., 1., 1., 1., 1., 0., 0., 0., 0., 0.], device='cuda:0',\n",
       "         grad_fn=<CatBackward0>),\n",
       "  tensor([1., 1., 1., 1., 1., 0., 0., 0., 0., 0.], device='cuda:0',\n",
       "         grad_fn=<CatBackward0>),\n",
       "  tensor([1., 1., 1., 1., 1., 0., 0., 0., 0., 0.], device='cuda:0',\n",
       "         grad_fn=<CatBackward0>),\n",
       "  tensor([1., 1., 1., 1., 1., 0., 0., 0., 0., 0.], device='cuda:0',\n",
       "         grad_fn=<CatBackward0>)],\n",
       " 2: [tensor([1., 1., 1., 1., 1., 0., 0., 0., 0., 0.], device='cuda:0',\n",
       "         grad_fn=<CatBackward0>),\n",
       "  tensor([1., 1., 1., 1., 1., 0., 0., 0., 0., 0.], device='cuda:0',\n",
       "         grad_fn=<CatBackward0>),\n",
       "  tensor([1., 1., 1., 1., 1., 0., 0., 0., 0., 0.], device='cuda:0',\n",
       "         grad_fn=<CatBackward0>),\n",
       "  tensor([1., 1., 1., 1., 1., 0., 0., 0., 0., 0.], device='cuda:0',\n",
       "         grad_fn=<CatBackward0>),\n",
       "  tensor([1., 1., 1., 1., 1., 0., 0., 0., 0., 0.], device='cuda:0',\n",
       "         grad_fn=<CatBackward0>)],\n",
       " 3: [tensor([1., 1., 1., 1., 1., 0., 0., 0., 0., 0.], device='cuda:0',\n",
       "         grad_fn=<CatBackward0>),\n",
       "  tensor([1., 1., 1., 1., 1., 0., 0., 0., 0., 0.], device='cuda:0',\n",
       "         grad_fn=<CatBackward0>),\n",
       "  tensor([1., 1., 1., 1., 1., 0., 0., 0., 0., 0.], device='cuda:0',\n",
       "         grad_fn=<CatBackward0>),\n",
       "  tensor([1., 1., 1., 1., 1., 0., 0., 0., 0., 0.], device='cuda:0',\n",
       "         grad_fn=<CatBackward0>),\n",
       "  tensor([1., 1., 1., 1., 1., 0., 0., 0., 0., 0.], device='cuda:0',\n",
       "         grad_fn=<CatBackward0>)],\n",
       " 4: [tensor([1., 1., 1., 1., 1., 0., 0., 0., 0., 0.], device='cuda:0',\n",
       "         grad_fn=<CatBackward0>),\n",
       "  tensor([1., 1., 1., 1., 1., 0., 0., 0., 0., 0.], device='cuda:0',\n",
       "         grad_fn=<CatBackward0>),\n",
       "  tensor([1., 1., 1., 1., 1., 0., 0., 0., 0., 0.], device='cuda:0',\n",
       "         grad_fn=<CatBackward0>),\n",
       "  tensor([1., 1., 1., 1., 1., 0., 0., 0., 0., 0.], device='cuda:0',\n",
       "         grad_fn=<CatBackward0>),\n",
       "  tensor([1., 1., 1., 1., 1., 0., 0., 0., 0., 0.], device='cuda:0',\n",
       "         grad_fn=<CatBackward0>)],\n",
       " 5: [tensor([1., 1., 1., 1., 1., 0., 0., 0., 0., 0.], device='cuda:0',\n",
       "         grad_fn=<CatBackward0>),\n",
       "  tensor([1., 1., 1., 1., 1., 0., 0., 0., 0., 0.], device='cuda:0',\n",
       "         grad_fn=<CatBackward0>),\n",
       "  tensor([1., 1., 1., 1., 1., 0., 0., 0., 0., 0.], device='cuda:0',\n",
       "         grad_fn=<CatBackward0>),\n",
       "  tensor([1., 1., 1., 1., 1., 0., 0., 0., 0., 0.], device='cuda:0',\n",
       "         grad_fn=<CatBackward0>),\n",
       "  tensor([1., 1., 1., 1., 1., 0., 0., 0., 0., 0.], device='cuda:0',\n",
       "         grad_fn=<CatBackward0>)],\n",
       " 6: [tensor([1., 1., 1., 1., 1., 0., 0., 0., 0., 0.], device='cuda:0',\n",
       "         grad_fn=<CatBackward0>),\n",
       "  tensor([1., 1., 1., 1., 1., 0., 0., 0., 0., 0.], device='cuda:0',\n",
       "         grad_fn=<CatBackward0>),\n",
       "  tensor([1., 1., 1., 1., 1., 0., 0., 0., 0., 0.], device='cuda:0',\n",
       "         grad_fn=<CatBackward0>),\n",
       "  tensor([1., 1., 1., 1., 1., 0., 0., 0., 0., 0.], device='cuda:0',\n",
       "         grad_fn=<CatBackward0>),\n",
       "  tensor([1., 1., 1., 1., 1., 0., 0., 0., 0., 0.], device='cuda:0',\n",
       "         grad_fn=<CatBackward0>)],\n",
       " 7: [tensor([1., 1., 1., 1., 1., 0., 0., 0., 0., 0.], device='cuda:0',\n",
       "         grad_fn=<CatBackward0>),\n",
       "  tensor([1., 1., 1., 1., 1., 0., 0., 0., 0., 0.], device='cuda:0',\n",
       "         grad_fn=<CatBackward0>),\n",
       "  tensor([1., 1., 1., 1., 1., 0., 0., 0., 0., 0.], device='cuda:0',\n",
       "         grad_fn=<CatBackward0>),\n",
       "  tensor([1., 1., 1., 1., 1., 0., 0., 0., 0., 0.], device='cuda:0',\n",
       "         grad_fn=<CatBackward0>),\n",
       "  tensor([1., 1., 1., 1., 1., 0., 0., 0., 0., 0.], device='cuda:0',\n",
       "         grad_fn=<CatBackward0>)],\n",
       " 8: [tensor([1., 1., 1., 1., 1., 0., 0., 0., 0., 0.], device='cuda:0',\n",
       "         grad_fn=<CatBackward0>),\n",
       "  tensor([1., 1., 1., 1., 1., 0., 0., 0., 0., 0.], device='cuda:0',\n",
       "         grad_fn=<CatBackward0>),\n",
       "  tensor([1., 1., 1., 1., 1., 0., 0., 0., 0., 0.], device='cuda:0',\n",
       "         grad_fn=<CatBackward0>),\n",
       "  tensor([1., 1., 1., 1., 1., 0., 0., 0., 0., 0.], device='cuda:0',\n",
       "         grad_fn=<CatBackward0>),\n",
       "  tensor([1., 1., 1., 1., 1., 0., 0., 0., 0., 0.], device='cuda:0',\n",
       "         grad_fn=<CatBackward0>)],\n",
       " 9: [tensor([1., 1., 1., 1., 1., 0., 0., 0., 0., 0.], device='cuda:0',\n",
       "         grad_fn=<CatBackward0>),\n",
       "  tensor([1., 1., 1., 1., 1., 0., 0., 0., 0., 0.], device='cuda:0',\n",
       "         grad_fn=<CatBackward0>),\n",
       "  tensor([1., 1., 1., 1., 1., 0., 0., 0., 0., 0.], device='cuda:0',\n",
       "         grad_fn=<CatBackward0>),\n",
       "  tensor([1., 1., 1., 1., 1., 0., 0., 0., 0., 0.], device='cuda:0',\n",
       "         grad_fn=<CatBackward0>),\n",
       "  tensor([1., 1., 1., 1., 1., 0., 0., 0., 0., 0.], device='cuda:0',\n",
       "         grad_fn=<CatBackward0>)]}"
      ]
     },
     "execution_count": 3,
     "metadata": {},
     "output_type": "execute_result"
    }
   ],
   "source": [
    "zzz"
   ]
  },
  {
   "cell_type": "code",
   "execution_count": 6,
   "metadata": {},
   "outputs": [
    {
     "data": {
      "image/png": "[encoded data removed]",
      "text/plain": [
       "<Figure size 2000x500 with 10 Axes>"
      ]
     },
     "metadata": {},
     "output_type": "display_data"
    }
   ],
   "source": [
    "\n",
    "import matplotlib.pyplot as plt\n",
    "fig, axs = plt.subplots(10, figsize=(20,5))\n",
    "for i in range(10):\n",
    "    axs[i].hist(torch.stack(zzz[i]).min(1).indices.cpu().numpy(), bins=range(10))"
   ]
  },
  {
   "cell_type": "code",
   "execution_count": 39,
   "metadata": {},
   "outputs": [
    {
     "data": {
      "text/plain": [
       "tensor([10000.], device='cuda:0')"
      ]
     },
     "execution_count": 39,
     "metadata": {},
     "output_type": "execute_result"
    }
   ],
   "source": [
    "torch.FloatTensor([1]).cuda() *10000\n"
   ]
  }
 ],
 "metadata": {
  "kernelspec": {
   "display_name": ".venv",
   "language": "python",
   "name": "python3"
  },
  "language_info": {
   "codemirror_mode": {
    "name": "ipython",
    "version": 3
   },
   "file_extension": ".py",
   "mimetype": "text/x-python",
   "name": "python",
   "nbconvert_exporter": "python",
   "pygments_lexer": "ipython3",
   "version": "3.10.12"
  }
 },
 "nbformat": 4,
 "nbformat_minor": 2
}
